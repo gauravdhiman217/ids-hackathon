{
 "cells": [
  {
   "cell_type": "code",
   "execution_count": 1,
   "id": "8c6eab12",
   "metadata": {},
   "outputs": [],
   "source": [
    "import pandas as pd"
   ]
  },
  {
   "cell_type": "code",
   "execution_count": 4,
   "id": "fa922c08",
   "metadata": {},
   "outputs": [],
   "source": [
    "df = pd.read_csv('data/IDS_L1_support_FAQs.csv', encoding='latin1')"
   ]
  },
  {
   "cell_type": "code",
   "execution_count": 5,
   "id": "6ac81ed1",
   "metadata": {},
   "outputs": [
    {
     "data": {
      "text/html": [
       "<div>\n",
       "<style scoped>\n",
       "    .dataframe tbody tr th:only-of-type {\n",
       "        vertical-align: middle;\n",
       "    }\n",
       "\n",
       "    .dataframe tbody tr th {\n",
       "        vertical-align: top;\n",
       "    }\n",
       "\n",
       "    .dataframe thead th {\n",
       "        text-align: right;\n",
       "    }\n",
       "</style>\n",
       "<table border=\"1\" class=\"dataframe\">\n",
       "  <thead>\n",
       "    <tr style=\"text-align: right;\">\n",
       "      <th></th>\n",
       "      <th>Question</th>\n",
       "      <th>Answer</th>\n",
       "    </tr>\n",
       "  </thead>\n",
       "  <tbody>\n",
       "    <tr>\n",
       "      <th>12</th>\n",
       "      <td>How do I configure MFA (Multi-Factor Authentic...</td>\n",
       "      <td>Refer to the attached document 'MULTIFACTOR AU...</td>\n",
       "    </tr>\n",
       "    <tr>\n",
       "      <th>4</th>\n",
       "      <td>How do I configure LDAP connectivity in FortiG...</td>\n",
       "      <td>1. Login to FortiGate and go to User &amp; Device ...</td>\n",
       "    </tr>\n",
       "    <tr>\n",
       "      <th>9</th>\n",
       "      <td>How do I install the Island Browser for EHR ac...</td>\n",
       "      <td>1. Go to https://download.island.io in any bro...</td>\n",
       "    </tr>\n",
       "    <tr>\n",
       "      <th>3</th>\n",
       "      <td>How do I create a surfing quota-based policy i...</td>\n",
       "      <td>1. Login to FortiGate and in Policy &amp; Objects,...</td>\n",
       "    </tr>\n",
       "    <tr>\n",
       "      <th>7</th>\n",
       "      <td>What are the steps to refresh the tunnel for P...</td>\n",
       "      <td>1. Login to the firewall at https://192.168.10...</td>\n",
       "    </tr>\n",
       "    <tr>\n",
       "      <th>6</th>\n",
       "      <td>How do I change ISP in FortiGate if one ISP is...</td>\n",
       "      <td>1. Open the FortiGate web interface (e.g., htt...</td>\n",
       "    </tr>\n",
       "    <tr>\n",
       "      <th>5</th>\n",
       "      <td>How do I allow a website in an existing custom...</td>\n",
       "      <td>1. In web policy, find the rule and add the we...</td>\n",
       "    </tr>\n",
       "    <tr>\n",
       "      <th>2</th>\n",
       "      <td>How does Zabbix integrate with OTRS for event ...</td>\n",
       "      <td>Zabbix events categorized under severity level...</td>\n",
       "    </tr>\n",
       "    <tr>\n",
       "      <th>13</th>\n",
       "      <td>How do I configure FortiClient VPN gateway set...</td>\n",
       "      <td>1. Open FortiClient and go to VPN settings. 2....</td>\n",
       "    </tr>\n",
       "    <tr>\n",
       "      <th>8</th>\n",
       "      <td>How do I update Fortinet firewall firmware?</td>\n",
       "      <td>1. Open the Fortinet support portal (https://s...</td>\n",
       "    </tr>\n",
       "  </tbody>\n",
       "</table>\n",
       "</div>"
      ],
      "text/plain": [
       "                                             Question  \\\n",
       "12  How do I configure MFA (Multi-Factor Authentic...   \n",
       "4   How do I configure LDAP connectivity in FortiG...   \n",
       "9   How do I install the Island Browser for EHR ac...   \n",
       "3   How do I create a surfing quota-based policy i...   \n",
       "7   What are the steps to refresh the tunnel for P...   \n",
       "6   How do I change ISP in FortiGate if one ISP is...   \n",
       "5   How do I allow a website in an existing custom...   \n",
       "2   How does Zabbix integrate with OTRS for event ...   \n",
       "13  How do I configure FortiClient VPN gateway set...   \n",
       "8         How do I update Fortinet firewall firmware?   \n",
       "\n",
       "                                               Answer  \n",
       "12  Refer to the attached document 'MULTIFACTOR AU...  \n",
       "4   1. Login to FortiGate and go to User & Device ...  \n",
       "9   1. Go to https://download.island.io in any bro...  \n",
       "3   1. Login to FortiGate and in Policy & Objects,...  \n",
       "7   1. Login to the firewall at https://192.168.10...  \n",
       "6   1. Open the FortiGate web interface (e.g., htt...  \n",
       "5   1. In web policy, find the rule and add the we...  \n",
       "2   Zabbix events categorized under severity level...  \n",
       "13  1. Open FortiClient and go to VPN settings. 2....  \n",
       "8   1. Open the Fortinet support portal (https://s...  "
      ]
     },
     "execution_count": 5,
     "metadata": {},
     "output_type": "execute_result"
    }
   ],
   "source": [
    "df.sample(10)"
   ]
  },
  {
   "cell_type": "code",
   "execution_count": 6,
   "id": "04f06199",
   "metadata": {},
   "outputs": [],
   "source": [
    "final_data = pd.DataFrame((df[\"Question\"]+\"\\n\"+df[\"Answer\"]))"
   ]
  },
  {
   "cell_type": "code",
   "execution_count": 11,
   "id": "fb10bec3",
   "metadata": {},
   "outputs": [
    {
     "name": "stdout",
     "output_type": "stream",
     "text": [
      "How do I configure a new SFTP connection in FileZilla?\n",
      "1. Open FileZilla, then go to File ? Site Manager (or click the computer icon). 2. Click New Site and name it (e.g., 'Give Any Name'). 3. In the General tab: Protocol: SFTP  SSH File Transfer Protocol; Host: idsftp.idsil.com; Port: 13822; Logon Type: Normal; User: <your_username>; Password: <your_password>. 4. Click Connect. FileZilla will remember this profile for next time.\n"
     ]
    }
   ],
   "source": [
    "print(final_data[0][0])"
   ]
  },
  {
   "cell_type": "code",
   "execution_count": 8,
   "id": "aa21bae5",
   "metadata": {},
   "outputs": [
    {
     "data": {
      "text/plain": [
       "(14, 1)"
      ]
     },
     "execution_count": 8,
     "metadata": {},
     "output_type": "execute_result"
    }
   ],
   "source": [
    "final_data.shape"
   ]
  },
  {
   "cell_type": "code",
   "execution_count": 12,
   "id": "afa09fb4",
   "metadata": {},
   "outputs": [],
   "source": [
    "from uuid import uuid4\n",
    "\n",
    "from langchain_core.documents import Document\n",
    "\n",
    "documents = list()\n",
    "for i in range(final_data.shape[0]):\n",
    "    documents.append(\n",
    "        Document(\n",
    "            page_content=final_data.iloc[i, 0]\n",
    "        )\n",
    "    )"
   ]
  },
  {
   "cell_type": "code",
   "execution_count": 13,
   "id": "ceddf5a7",
   "metadata": {},
   "outputs": [
    {
     "data": {
      "text/plain": [
       "[Document(metadata={}, page_content=\"How do I configure a new SFTP connection in FileZilla?\\n1. Open FileZilla, then go to File ? Site Manager (or click the computer icon). 2. Click New Site and name it (e.g., 'Give Any Name'). 3. In the General tab: Protocol: SFTP \\x96 SSH File Transfer Protocol; Host: idsftp.idsil.com; Port: 13822; Logon Type: Normal; User: <your_username>; Password: <your_password>. 4. Click Connect. FileZilla will remember this profile for next time.\"),\n",
       " Document(metadata={}, page_content='How do I enable or disable BitLocker in Windows devices?\\nTo enable or disable BitLocker, refer to the attached document or contact IT support for step-by-step guidance. BitLocker settings can be managed from Control Panel > System and Security > BitLocker Drive Encryption. Administrator rights may be required.'),\n",
       " Document(metadata={}, page_content='How does Zabbix integrate with OTRS for event notifications?\\nZabbix events categorized under severity levels (Warning, Average, High, Disaster) are automatically integrated with the OTRS ticketing system. When a monitored device triggers an event, a corresponding ticket is generated in OTRS. Once resolved, the ticket is closed automatically. For more details, see https://www.zabbix.com/integrations/otrs_ce.'),\n",
       " Document(metadata={}, page_content=\"How do I create a surfing quota-based policy in FortiGate?\\n1. Login to FortiGate and in Policy & Objects, select Traffic Shapers. 2. Click 'Create New' and fill all fields as per requirements (Type: Shared/Per-IP, Name, Max Bandwidth, Guaranteed Bandwidth, etc.). 3. Apply shaper per policy and enable status. 4. Assign traffic shaper to desired source/destination policies. This controls bandwidth usage and enforces surfing quotas as needed.\"),\n",
       " Document(metadata={}, page_content=\"How do I configure LDAP connectivity in FortiGate?\\n1. Login to FortiGate and go to User & Device > LDAP Servers. 2. Click 'Create New' and enter AD server details: Name, Server IP, Port (389), Common Name Identifier, Distinguished Name, Bind Type, Username, Password. 3. Test connectivity to ensure successful sync between AD and FortiGate. Use 'Regular' bind type for standard authentication.\"),\n",
       " Document(metadata={}, page_content='How do I allow a website in an existing customized web surfing policy in FortiGate?\\n1. In web policy, find the rule and add the website (e.g., facebook.com) to the allowed list. 2. Check security profiles (Web Filter, DNS Filter, Application Control) and ensure the site is not blocked. 3. Apply changes and verify access. For specific application or IP, update the filter and policy accordingly.'),\n",
       " Document(metadata={}, page_content='How do I change ISP in FortiGate if one ISP is down?\\n1. Open the FortiGate web interface (e.g., https://192.168.3.1:8440) and log in with your firewall credentials. 2. Go to the Network tab, then SD-WAN. 3. In SD-WAN Rules, select the relevant rule and click Edit. 4. In the Priority Rule, deselect the ISP that is down; the secondary ISP will automatically take over. 5. Confirm changes and monitor connectivity. This ensures business continuity by switching to a backup ISP when the primary is unavailable.'),\n",
       " Document(metadata={}, page_content=\"What are the steps to refresh the tunnel for Point Clickcare EHR?\\n1. Login to the firewall at https://192.168.10.68 with your credentials. 2. Go to 'Apps' and click on 'Tunnel VPN'. 3. In the Tunnel VPN section, locate the tunnel (e.g., tunnel-CustomOvpn) and click the 'Recycle' icon to refresh the tunnel. 4. Confirm the tunnel status with CRC users. 5. Always logout from the firewall after resolving the issue.\"),\n",
       " Document(metadata={}, page_content='How do I update Fortinet firewall firmware?\\n1. Open the Fortinet support portal (https://support.fortinet.com). 2. Go to support and download the required firmware image for your firewall model. 3. Check the upgrade path and build number. 4. In the firewall interface, go to System > Fabric Management > Upgrade. 5. Select the device, click Upgrade, and upload the downloaded firmware file. 6. Confirm and backup configuration. The firewall will reboot and update. In HA setups, the secondary firewall updates first, then the primary.'),\n",
       " Document(metadata={}, page_content=\"How do I install the Island Browser for EHR access?\\n1. Go to https://download.island.io in any browser. 2. Enter your CommonSpirit email and click the green arrow to continue. 3. Log in using your email, password, and Okta method. 4. Click the 'Download for Windows' button. 5. Once downloaded, run the installer file. 6. If prompted for administrator credentials, click 'No' unless you want to install for all users. 7. Follow on-screen instructions to complete installation. If you encounter issues, contact your administrator.\")]"
      ]
     },
     "execution_count": 13,
     "metadata": {},
     "output_type": "execute_result"
    }
   ],
   "source": [
    "documents[:10]"
   ]
  },
  {
   "cell_type": "code",
   "execution_count": 14,
   "id": "6e39f773",
   "metadata": {},
   "outputs": [],
   "source": [
    "uuids: list[str] = [str(uuid4()) for _ in range(len(documents))]"
   ]
  },
  {
   "cell_type": "code",
   "execution_count": 15,
   "id": "75f41cfb",
   "metadata": {},
   "outputs": [
    {
     "data": {
      "text/plain": [
       "14"
      ]
     },
     "execution_count": 15,
     "metadata": {},
     "output_type": "execute_result"
    }
   ],
   "source": [
    "len(uuids)"
   ]
  },
  {
   "cell_type": "code",
   "execution_count": 16,
   "id": "6edfa46f",
   "metadata": {},
   "outputs": [],
   "source": [
    "from dotenv import load_dotenv\n",
    "from pinecone import Pinecone\n",
    "\n",
    "load_dotenv()\n",
    "pc = Pinecone()"
   ]
  },
  {
   "cell_type": "code",
   "execution_count": 20,
   "id": "8167eb11",
   "metadata": {},
   "outputs": [],
   "source": [
    "# from pinecone import ServerlessSpec\n",
    "\n",
    "index_name = \"faqs\"\n",
    "\n",
    "# if not pc.has_index(index_name):\n",
    "#     pc.create_index(\n",
    "#         name=index_name,\n",
    "#         dimension=1024,\n",
    "#         metric=\"cosine\",\n",
    "#         spec=ServerlessSpec(cloud=\"aws\", region=\"us-east-1\"),\n",
    "#     )\n",
    "\n",
    "index = pc.Index(index_name)"
   ]
  },
  {
   "cell_type": "code",
   "execution_count": null,
   "id": "3593ae92",
   "metadata": {},
   "outputs": [],
   "source": [
    "# import torch\n",
    "\n",
    "# device = \"cuda\" if torch.cuda.is_available() else \"cpu\""
   ]
  },
  {
   "cell_type": "code",
   "execution_count": null,
   "id": "7b33ac34",
   "metadata": {},
   "outputs": [],
   "source": [
    "# from langchain_huggingface.embeddings import HuggingFaceEmbeddings\n",
    "\n",
    "# embeddings = HuggingFaceEmbeddings(\n",
    "#     model_name=\"BAAI/bge-large-en-v1.5\", model_kwargs={\"device\": device}\n",
    "# )\n",
    "\n"
   ]
  },
  {
   "cell_type": "code",
   "execution_count": null,
   "id": "1e8fb7aa",
   "metadata": {},
   "outputs": [],
   "source": [
    "# from langchain_pinecone import PineconeVectorStore\n",
    "\n",
    "# vector_store = PineconeVectorStore(index=index, embedding=embeddings)"
   ]
  },
  {
   "cell_type": "code",
   "execution_count": null,
   "id": "67783076",
   "metadata": {},
   "outputs": [
    {
     "data": {
      "text/plain": [
       "['53ef97a5-4fda-41a4-8053-c8c98cf69eb8',\n",
       " 'c2c0aabf-bb98-4e1c-877b-d4f708c35ce9',\n",
       " '47408dda-47eb-448e-9e97-60866e8d2c3d',\n",
       " 'e1c71470-1dfd-4692-9b6b-eb6050f646fc',\n",
       " '6608ffc9-fad7-4b91-a0bf-37806c507e10',\n",
       " 'f1e06949-fd77-47ff-b7f7-d17689ef0d87',\n",
       " '31361700-03e9-4f38-956e-71590993dd8d',\n",
       " 'b4e7cefa-9753-4711-b003-48792be88a56',\n",
       " 'b6f7d917-e9ae-46c9-9fd2-8176fb229094',\n",
       " '932def41-8cf5-4980-af49-7f2d9f93b748',\n",
       " '242c6da0-9588-4aea-8592-dad08dcb246b',\n",
       " 'ef45b1d8-39dc-48a4-90bb-3365c2d8d556',\n",
       " 'be103a6f-b121-400a-837d-670c6b9bd957',\n",
       " '3628c68b-4f7a-4f1d-86de-f93315c4b9de']"
      ]
     },
     "execution_count": 22,
     "metadata": {},
     "output_type": "execute_result"
    }
   ],
   "source": [
    "# vector_store.add_documents(documents=documents, ids=uuids)"
   ]
  },
  {
   "cell_type": "code",
   "execution_count": null,
   "id": "4e6ec208",
   "metadata": {},
   "outputs": [],
   "source": [
    "# results = vector_store.similarity_search_with_score(\n",
    "#     \"forget password\", k=10, \n",
    "# )\n",
    "# for res, score in results:\n",
    "#     print(f\"* [SIM={score:3f}] {res.page_content} [{res.metadata}]\")"
   ]
  },
  {
   "cell_type": "code",
   "execution_count": null,
   "id": "e8817656",
   "metadata": {},
   "outputs": [],
   "source": []
  }
 ],
 "metadata": {
  "kernelspec": {
   "display_name": "ai (3.12.11)",
   "language": "python",
   "name": "python3"
  },
  "language_info": {
   "codemirror_mode": {
    "name": "ipython",
    "version": 3
   },
   "file_extension": ".py",
   "mimetype": "text/x-python",
   "name": "python",
   "nbconvert_exporter": "python",
   "pygments_lexer": "ipython3",
   "version": "3.12.11"
  }
 },
 "nbformat": 4,
 "nbformat_minor": 5
}
